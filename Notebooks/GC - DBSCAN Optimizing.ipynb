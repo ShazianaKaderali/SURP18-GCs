{
 "cells": [
  {
   "cell_type": "code",
   "execution_count": 74,
   "metadata": {},
   "outputs": [],
   "source": [
    "from gaia_tools import query\n",
    "import matplotlib\n",
    "matplotlib.use(\"AGG\")\n",
    "import matplotlib.pyplot as plt\n",
    "import numpy as np\n",
    "import pandas as pd\n",
    "from astropy.table import Table\n",
    "import pyexcel\n",
    "from astropy import units as u\n",
    "from astropy.coordinates import SkyCoord\n",
    "\n",
    "import sklearn\n",
    "from sklearn import cluster\n",
    "from matplotlib.patches import Circle\n",
    "#from matplotlib import patches\n",
    "#%pylab inline\n",
    "import pywt\n",
    "from galpy.util import bovy_plot\n",
    "\n",
    "import PyPDF2\n",
    "from PyPDF2 import PdfFileReader, PdfFileWriter\n",
    "\n",
    "from scipy import stats as st\n",
    "from matplotlib import colors, ticker, cm\n",
    "\n",
    "import csv\n"
   ]
  },
  {
   "cell_type": "code",
   "execution_count": 75,
   "metadata": {},
   "outputs": [
    {
     "name": "stdout",
     "output_type": "stream",
     "text": [
      "1.35\n",
      "13.19270248\n"
     ]
    },
    {
     "name": "stderr",
     "output_type": "stream",
     "text": [
      "UserWarning: evaluating in Python space because the '*' operator is not supported by numexpr for the bool dtype, use '&' instead [expressions.py:183]\n"
     ]
    }
   ],
   "source": [
    "# csv-pd set up for DBSCANN\n",
    "GlobClust_Log_ra_dec = pd.read_csv('~/GlobClust_ra-dec.csv')\n",
    "GlobClust_Log_r_t = GlobClust_Log_ra_dec.loc[0:0,\"r_t\"]\n",
    "GlobClust_Log_radec = GlobClust_Log_ra_dec.loc[0:0,\"RA\":\"DEC\"]\n",
    "GlobClust_Log_ID = GlobClust_Log_ra_dec.loc[0:0,\"ID\"]\n",
    "GlobClust_Log_r_c = GlobClust_Log_ra_dec.loc[0:0,\"r_c\"]\n",
    "GlobClust_Log_r_t = GlobClust_Log_ra_dec.loc[0:0,\"r_t\"]\n",
    "#GlobClust_Log_dec = GlobClust_Log_ra_dec.loc[:,\"dec\"]\n",
    "#GlobClust_Log_RA = GlobClust_Log_ra_dec.loc[0:7,\"RA\"]\n",
    "#GlobClust_Log_DEC = GlobClust_Log_ra_dec.loc[0:7,\"DEC\"]\n",
    "#print(GlobClust_Log_r_t)\n",
    "\n",
    "GlobClust_Log_2 = pd.read_csv('~/out_NGC 288_full_15rt_ra_dec.csv')\n",
    "GlobClust_Log_pmra = GlobClust_Log_2.loc[:,\"pmra\"]\n",
    "GlobClust_Log_pmdec = GlobClust_Log_2.loc[:,\"pmdec\"]\n",
    "GlobClust_Log_ra = GlobClust_Log_2.loc[:,\"ra\"]\n",
    "GlobClust_Log_dec = GlobClust_Log_2.loc[:,\"dec\"]\n",
    "\n",
    "GlobClust_Log_g = GlobClust_Log_2.loc[:,\"phot_g_mean_mag\"]\n",
    "GlobClust_Log_rp = GlobClust_Log_2.loc[:,\"phot_rp_mean_mag\"]\n",
    "GlobClust_Log_bp = GlobClust_Log_2.loc[:,\"phot_bp_mean_mag\"]\n",
    "GlobClust_Log_rpbp = GlobClust_Log_bp - GlobClust_Log_rp\n",
    "GlobClust_Log_ra_out = GlobClust_Log_2.loc[:,\"ra\"]\n",
    "GlobClust_Log_dec_out = GlobClust_Log_2.loc[:,\"dec\"]\n",
    "GlobClust_Log_pmdec_out = GlobClust_Log_2.loc[:,\"pmdec\"]\n",
    "GlobClust_Log_pmra_out = GlobClust_Log_2.loc[:,\"pmra\"]\n",
    "\n",
    "#GlobClust_Log_pmra = GlobClust_Log_pmra.as_matrix()\n",
    "#GlobClust_Log_pmdec = GlobClust_Log_pmdec.as_matrix()\n",
    "#GlobClust_Log_ra = GlobClust_Log_ra.as_matrix()\n",
    "#GlobClust_Log_dec = GlobClust_Log_dec.as_matrix()\n",
    "\n",
    "GlobClust_Log_parallax_out = GlobClust_Log_2.loc[:,\"parallax\"]\n",
    "GlobClust_Log_parallaxerror_out = GlobClust_Log_2.loc[:,\"parallax_error\"]\n",
    "GlobClust_Log_parallaxe_out = GlobClust_Log_2.loc[:,\"parallax\":\"parallax_error\"]\n",
    "\n",
    "GlobClust_Log_pmra_error = GlobClust_Log_2.loc[:,\"pmra_error\"]\n",
    "GlobClust_Log_pmdec_error = GlobClust_Log_2.loc[:,\"pmdec_error\"]\n",
    "GlobClust_Log_ra_error = GlobClust_Log_2.loc[:,\"ra_error\"]\n",
    "GlobClust_Log_dec_error = GlobClust_Log_2.loc[:,\"dec_error\"]\n",
    "GlobClust_Log_vpu = GlobClust_Log_2.loc[:,\"visibility_periods_used\"]\n",
    "GlobClust_Log_aen = GlobClust_Log_2.loc[:,\"astrometric_excess_noise\"]\n",
    "\n",
    "#indx = (np.sqrt((np.fabs(GlobClust_Log_ra_out-coord_ra_dec.ra.deg)**2+np.fabs(GlobClust_Log_dec_out-coord_ra_dec.dec.deg)**2))<Clust_Edge/60)\n",
    "\n",
    "# DBSCANN - parallax before scan\n",
    "GlobClust_Log_parallaxover_out = GlobClust_Log_parallaxerror_out/GlobClust_Log_parallax_out\n",
    "\n",
    "#parallax_indx = (GC_parallaxover>0.20) | ((1/GC_parallax>5.)*(GC_parallaxover<0.20)), /3600000\n",
    "parallax_indx=((1/(GlobClust_Log_parallax_out)<5.)*(GlobClust_Log_parallaxover_out<0.10))\n",
    "parallax_indx=[not i for i in parallax_indx]\n",
    "\n",
    "coord_ra_dec_deg=[]\n",
    "coord_ra_dec = SkyCoord(GlobClust_Log_radec.loc[:,\"RA\"], GlobClust_Log_radec.loc[:,\"DEC\"], frame='icrs')\n",
    "\n",
    "Clust_Edge = GlobClust_Log_r_c[0]\n",
    "print(Clust_Edge)\n",
    "Tidal_Edge = GlobClust_Log_r_t[0]\n",
    "print(Tidal_Edge)\n",
    "d_pc=8900\n",
    "\n",
    "#M=m-5(log(d)-1)\n",
    "GlobClust_Log_M = GlobClust_Log_g-5*((np.log10(d_pc)) - 1)\n",
    "\n",
    "indx = (np.sqrt((np.fabs(GlobClust_Log_ra_out-coord_ra_dec.ra.deg)**2+np.fabs(GlobClust_Log_dec_out-coord_ra_dec.de\\\n",
    "c.deg)**2))<Clust_Edge/60)\n",
    "\n",
    "r_t = GlobClust_Log_r_t.as_matrix()\n",
    "r_t = r_t[0]\n",
    "\n",
    "# Creating a routine that appends files to the output file\n",
    "def append_pdf(input,output):\n",
    "    [output.addPage(input.getPage(page_num)) for page_num in range(input.numPages)]\n",
    "\n",
    "# Creating an object where pdf pages are appended to\n",
    "output = PdfFileWriter()\n"
   ]
  },
  {
   "cell_type": "code",
   "execution_count": 76,
   "metadata": {},
   "outputs": [],
   "source": [
    "data = np.loadtxt('n288_gaia.dat')\n",
    "np.shape(data)\n",
    "\n",
    "data_pd = pd.DataFrame({'id': data[:,0], 'x': data[:,1], 'y': data[:,2], 'z': data[:,3],\n",
    "                       'vx': data[:,4], 'vy': data[:,5], 'vy': data[:,6], \n",
    "                       'ra': data[:,7], 'dec':data[:,8], 'pmra': data[:,9], 'pmdec': data[:,10]})\n",
    "\n",
    "ra_n = data_pd.loc[:,\"ra\"]\n",
    "#print(ra_n)\n",
    "dec_n = data_pd.loc[:,\"dec\"]\n",
    "#print(dec_n)\n",
    "pmra_n = data_pd.loc[:,\"pmra\"]\n",
    "#print(pmra_n)\n",
    "pmdec_n = data_pd.loc[:,\"pmdec\"]\n",
    "#print(pmdec_n)\n",
    "\n",
    "core_indx = (np.sqrt((np.fabs(ra_n.as_matrix()-coord_ra_dec.ra.deg-0.85)**2+\\\n",
    "                       np.fabs(dec_n.as_matrix()-coord_ra_dec.dec.deg-0.1)**2)) <= GlobClust_Log_r_c[0]/60)\n",
    "\n",
    "tidal_indx = (np.sqrt((np.fabs(ra_n.as_matrix()-coord_ra_dec.ra.deg-0.85)**2+\\\n",
    "                       np.fabs(dec_n.as_matrix()-coord_ra_dec.dec.deg-0.1)**2)) <= GlobClust_Log_r_t[0]/60)\n",
    "\n",
    "tidal_indx_15 = (np.sqrt((np.fabs(ra_n.as_matrix()-coord_ra_dec.ra.deg-0.85)**2+\\\n",
    "                       np.fabs(dec_n.as_matrix()-coord_ra_dec.dec.deg-0.1)**2)) <= GlobClust_Log_r_t[0]/60*15)\n",
    "\n",
    "\n",
    "pmra_n_norm = pmra_n-pmra_n[core_indx].mean()\n",
    "pmdec_n_norm = pmdec_n-pmdec_n[core_indx].mean()\n",
    "\n",
    "tidal_indx2 = (np.sqrt((np.fabs(ra_n.as_matrix()-coord_ra_dec.ra.deg-0.85)**2+\\\n",
    "                       np.fabs(dec_n.as_matrix()-coord_ra_dec.dec.deg-0.1)**2)) <= GlobClust_Log_r_t[0]/60*15) *\\\n",
    "    (np.sqrt((np.fabs(ra_n.as_matrix()-coord_ra_dec.ra.deg-0.85)**2+\\\n",
    "                       np.fabs(dec_n.as_matrix()-coord_ra_dec.dec.deg-0.1)**2)) > GlobClust_Log_r_t[0]/60)"
   ]
  },
  {
   "cell_type": "code",
   "execution_count": 77,
   "metadata": {
    "scrolled": false
   },
   "outputs": [
    {
     "name": "stderr",
     "output_type": "stream",
     "text": [
      "UserWarning: evaluating in Python space because the '*' operator is not supported by numexpr for the bool dtype, use '&' instead [expressions.py:183]\n"
     ]
    },
    {
     "name": "stdout",
     "output_type": "stream",
     "text": [
      "[0] [0]\n",
      "<SkyCoord (ICRS): (ra, dec) in deg\n",
      "    [(13.1885, -26.58261111)]>\n",
      "(3984, 4)\n",
      "(3984,)\n",
      "Estimated number of Subgroups: 6\n"
     ]
    },
    {
     "name": "stderr",
     "output_type": "stream",
     "text": [
      "UserWarning: evaluating in Python space because the '*' operator is not supported by numexpr for the bool dtype, use '&' instead [expressions.py:183]\n"
     ]
    },
    {
     "name": "stdout",
     "output_type": "stream",
     "text": [
      "[0] [1]\n",
      "<SkyCoord (ICRS): (ra, dec) in deg\n",
      "    [(13.1885, -26.58261111)]>\n",
      "(3984, 4)\n",
      "(3984,)\n",
      "Estimated number of Subgroups: 7\n"
     ]
    },
    {
     "name": "stderr",
     "output_type": "stream",
     "text": [
      "UserWarning: evaluating in Python space because the '*' operator is not supported by numexpr for the bool dtype, use '&' instead [expressions.py:183]\n"
     ]
    },
    {
     "name": "stdout",
     "output_type": "stream",
     "text": [
      "[1] [0]\n",
      "<SkyCoord (ICRS): (ra, dec) in deg\n",
      "    [(13.1885, -26.58261111)]>\n",
      "(3984, 4)\n",
      "(3984,)\n",
      "Estimated number of Subgroups: 4\n"
     ]
    },
    {
     "name": "stderr",
     "output_type": "stream",
     "text": [
      "UserWarning: evaluating in Python space because the '*' operator is not supported by numexpr for the bool dtype, use '&' instead [expressions.py:183]\n"
     ]
    },
    {
     "name": "stdout",
     "output_type": "stream",
     "text": [
      "[1] [1]\n",
      "<SkyCoord (ICRS): (ra, dec) in deg\n",
      "    [(13.1885, -26.58261111)]>\n",
      "(3984, 4)\n",
      "(3984,)\n",
      "Estimated number of Subgroups: 3\n"
     ]
    },
    {
     "name": "stderr",
     "output_type": "stream",
     "text": [
      "UserWarning: evaluating in Python space because the '*' operator is not supported by numexpr for the bool dtype, use '&' instead [expressions.py:183]\n"
     ]
    },
    {
     "name": "stdout",
     "output_type": "stream",
     "text": [
      "[2] [0]\n",
      "<SkyCoord (ICRS): (ra, dec) in deg\n",
      "    [(13.1885, -26.58261111)]>\n",
      "(3984, 4)\n",
      "(3984,)\n"
     ]
    },
    {
     "ename": "KeyboardInterrupt",
     "evalue": "",
     "output_type": "error",
     "traceback": [
      "\u001b[0;31m---------------------------------------------------------------------------\u001b[0m",
      "\u001b[0;31mKeyboardInterrupt\u001b[0m                         Traceback (most recent call last)",
      "\u001b[0;32m<ipython-input-77-89484083d6f5>\u001b[0m in \u001b[0;36m<module>\u001b[0;34m()\u001b[0m\n\u001b[1;32m     43\u001b[0m \u001b[0;34m\u001b[0m\u001b[0m\n\u001b[1;32m     44\u001b[0m         \u001b[0mfig\u001b[0m\u001b[0;34m=\u001b[0m\u001b[0mplt\u001b[0m\u001b[0;34m.\u001b[0m\u001b[0mfigure\u001b[0m\u001b[0;34m(\u001b[0m\u001b[0mfigsize\u001b[0m\u001b[0;34m=\u001b[0m\u001b[0;34m(\u001b[0m\u001b[0;36m18\u001b[0m\u001b[0;34m,\u001b[0m\u001b[0;36m12\u001b[0m\u001b[0;34m)\u001b[0m\u001b[0;34m)\u001b[0m\u001b[0;34m\u001b[0m\u001b[0m\n\u001b[0;32m---> 45\u001b[0;31m         \u001b[0mplt\u001b[0m\u001b[0;34m.\u001b[0m\u001b[0mhexbin\u001b[0m\u001b[0;34m(\u001b[0m\u001b[0mx\u001b[0m\u001b[0;34m=\u001b[0m\u001b[0mGlobClust_Log_rpbp\u001b[0m\u001b[0;34m[\u001b[0m\u001b[0mparallax_indx\u001b[0m\u001b[0;34m]\u001b[0m\u001b[0;34m,\u001b[0m \u001b[0my\u001b[0m\u001b[0;34m=\u001b[0m\u001b[0mGlobClust_Log_M\u001b[0m\u001b[0;34m[\u001b[0m\u001b[0mparallax_indx\u001b[0m\u001b[0;34m]\u001b[0m\u001b[0;34m/\u001b[0m\u001b[0;36m7\u001b[0m\u001b[0;34m,\u001b[0m \u001b[0mgridsize\u001b[0m\u001b[0;34m=\u001b[0m\u001b[0;36m500\u001b[0m\u001b[0;34m,\u001b[0m\u001b[0mbins\u001b[0m\u001b[0;34m=\u001b[0m\u001b[0;34m'log'\u001b[0m\u001b[0;34m,\u001b[0m\u001b[0mcmap\u001b[0m\u001b[0;34m=\u001b[0m\u001b[0;34m'gist_yarg'\u001b[0m\u001b[0;34m,\u001b[0m \u001b[0mrasterized\u001b[0m\u001b[0;34m=\u001b[0m\u001b[0;32mTrue\u001b[0m\u001b[0;34m)\u001b[0m\u001b[0;31m#, extent=[-0.5,0.5,  0,2.5])\u001b[0m\u001b[0;34m\u001b[0m\u001b[0m\n\u001b[0m\u001b[1;32m     46\u001b[0m \u001b[0;34m\u001b[0m\u001b[0m\n\u001b[1;32m     47\u001b[0m         \u001b[0mcore_samples_mask\u001b[0m \u001b[0;34m=\u001b[0m \u001b[0mnp\u001b[0m\u001b[0;34m.\u001b[0m\u001b[0mzeros_like\u001b[0m\u001b[0;34m(\u001b[0m\u001b[0mdb\u001b[0m\u001b[0;34m.\u001b[0m\u001b[0mlabels_\u001b[0m\u001b[0;34m,\u001b[0m \u001b[0mdtype\u001b[0m\u001b[0;34m=\u001b[0m\u001b[0mbool\u001b[0m\u001b[0;34m)\u001b[0m\u001b[0;34m\u001b[0m\u001b[0m\n",
      "\u001b[0;32m/usr/local/lib/python3.6/site-packages/matplotlib/pyplot.py\u001b[0m in \u001b[0;36mhexbin\u001b[0;34m(x, y, C, gridsize, bins, xscale, yscale, extent, cmap, norm, vmin, vmax, alpha, linewidths, edgecolors, reduce_C_function, mincnt, marginals, hold, data, **kwargs)\u001b[0m\n\u001b[1;32m   3051\u001b[0m                         \u001b[0mlinewidths\u001b[0m\u001b[0;34m=\u001b[0m\u001b[0mlinewidths\u001b[0m\u001b[0;34m,\u001b[0m \u001b[0medgecolors\u001b[0m\u001b[0;34m=\u001b[0m\u001b[0medgecolors\u001b[0m\u001b[0;34m,\u001b[0m\u001b[0;34m\u001b[0m\u001b[0m\n\u001b[1;32m   3052\u001b[0m                         \u001b[0mreduce_C_function\u001b[0m\u001b[0;34m=\u001b[0m\u001b[0mreduce_C_function\u001b[0m\u001b[0;34m,\u001b[0m \u001b[0mmincnt\u001b[0m\u001b[0;34m=\u001b[0m\u001b[0mmincnt\u001b[0m\u001b[0;34m,\u001b[0m\u001b[0;34m\u001b[0m\u001b[0m\n\u001b[0;32m-> 3053\u001b[0;31m                         marginals=marginals, data=data, **kwargs)\n\u001b[0m\u001b[1;32m   3054\u001b[0m     \u001b[0;32mfinally\u001b[0m\u001b[0;34m:\u001b[0m\u001b[0;34m\u001b[0m\u001b[0m\n\u001b[1;32m   3055\u001b[0m         \u001b[0max\u001b[0m\u001b[0;34m.\u001b[0m\u001b[0m_hold\u001b[0m \u001b[0;34m=\u001b[0m \u001b[0mwashold\u001b[0m\u001b[0;34m\u001b[0m\u001b[0m\n",
      "\u001b[0;32m/usr/local/lib/python3.6/site-packages/matplotlib/__init__.py\u001b[0m in \u001b[0;36minner\u001b[0;34m(ax, *args, **kwargs)\u001b[0m\n\u001b[1;32m   1896\u001b[0m                     warnings.warn(msg % (label_namer, func.__name__),\n\u001b[1;32m   1897\u001b[0m                                   RuntimeWarning, stacklevel=2)\n\u001b[0;32m-> 1898\u001b[0;31m             \u001b[0;32mreturn\u001b[0m \u001b[0mfunc\u001b[0m\u001b[0;34m(\u001b[0m\u001b[0max\u001b[0m\u001b[0;34m,\u001b[0m \u001b[0;34m*\u001b[0m\u001b[0margs\u001b[0m\u001b[0;34m,\u001b[0m \u001b[0;34m**\u001b[0m\u001b[0mkwargs\u001b[0m\u001b[0;34m)\u001b[0m\u001b[0;34m\u001b[0m\u001b[0m\n\u001b[0m\u001b[1;32m   1899\u001b[0m         \u001b[0mpre_doc\u001b[0m \u001b[0;34m=\u001b[0m \u001b[0minner\u001b[0m\u001b[0;34m.\u001b[0m\u001b[0m__doc__\u001b[0m\u001b[0;34m\u001b[0m\u001b[0m\n\u001b[1;32m   1900\u001b[0m         \u001b[0;32mif\u001b[0m \u001b[0mpre_doc\u001b[0m \u001b[0;32mis\u001b[0m \u001b[0;32mNone\u001b[0m\u001b[0;34m:\u001b[0m\u001b[0;34m\u001b[0m\u001b[0m\n",
      "\u001b[0;32m/usr/local/lib/python3.6/site-packages/matplotlib/axes/_axes.py\u001b[0m in \u001b[0;36mhexbin\u001b[0;34m(self, x, y, C, gridsize, bins, xscale, yscale, extent, cmap, norm, vmin, vmax, alpha, linewidths, edgecolors, reduce_C_function, mincnt, marginals, **kwargs)\u001b[0m\n\u001b[1;32m   4273\u001b[0m             \u001b[0;32mfor\u001b[0m \u001b[0mi\u001b[0m \u001b[0;32min\u001b[0m \u001b[0mxrange\u001b[0m\u001b[0;34m(\u001b[0m\u001b[0mlen\u001b[0m\u001b[0;34m(\u001b[0m\u001b[0mx\u001b[0m\u001b[0;34m)\u001b[0m\u001b[0;34m)\u001b[0m\u001b[0;34m:\u001b[0m\u001b[0;34m\u001b[0m\u001b[0m\n\u001b[1;32m   4274\u001b[0m                 \u001b[0;32mif\u001b[0m \u001b[0mbdist\u001b[0m\u001b[0;34m[\u001b[0m\u001b[0mi\u001b[0m\u001b[0;34m]\u001b[0m\u001b[0;34m:\u001b[0m\u001b[0;34m\u001b[0m\u001b[0m\n\u001b[0;32m-> 4275\u001b[0;31m                     if ((ix1[i] >= 0) and (ix1[i] < nx1) and\n\u001b[0m\u001b[1;32m   4276\u001b[0m                         (iy1[i] >= 0) and (iy1[i] < ny1)):\n\u001b[1;32m   4277\u001b[0m                         \u001b[0mlattice1\u001b[0m\u001b[0;34m[\u001b[0m\u001b[0mix1\u001b[0m\u001b[0;34m[\u001b[0m\u001b[0mi\u001b[0m\u001b[0;34m]\u001b[0m\u001b[0;34m,\u001b[0m \u001b[0miy1\u001b[0m\u001b[0;34m[\u001b[0m\u001b[0mi\u001b[0m\u001b[0;34m]\u001b[0m\u001b[0;34m]\u001b[0m \u001b[0;34m+=\u001b[0m \u001b[0;36m1\u001b[0m\u001b[0;34m\u001b[0m\u001b[0m\n",
      "\u001b[0;31mKeyboardInterrupt\u001b[0m: "
     ]
    }
   ],
   "source": [
    "#Optimization\n",
    "epsilon = np.arange(0.02, 0.052, 0.001)\n",
    "min_samps = np.arange(10, 52, 1)\n",
    "\n",
    "pm_indx=(GlobClust_Log_pmra_error[parallax_indx] < 1) * (GlobClust_Log_pmdec_error[parallax_indx] < 1) *\\\n",
    "        (GlobClust_Log_vpu[parallax_indx] > 8) * (GlobClust_Log_aen[parallax_indx] == 0) *\\\n",
    "        (GlobClust_Log_pmra[parallax_indx] > 2.5) * (GlobClust_Log_pmra[parallax_indx] < 6) *\\\n",
    "        (GlobClust_Log_pmdec[parallax_indx] > -7.5) * (GlobClust_Log_pmdec[parallax_indx] < -3.5) #*\\\n",
    "        #(GlobClust_Log_M[parallax_indx] < 4.5)\n",
    "\n",
    "tidal_indx_sq = (np.fabs(ra_n-coord_ra_dec.ra.deg-0.85) < r_t/60*15 ) *\\\n",
    "                (np.fabs(dec_n-coord_ra_dec.dec.deg-0.1) < r_t/60*15 )\n",
    "    \n",
    "tidal_indx_sq2 = (np.fabs(ra_n-coord_ra_dec.ra.deg-0.85)<r_t/60*15) * (np.fabs(dec_n-coord_ra_dec.dec.deg-0.1)<r_t/60*15) *\\\n",
    "                 (np.sqrt((np.fabs(ra_n-coord_ra_dec.ra.deg-0.85))**2+(np.fabs(dec_n-coord_ra_dec.dec.deg-0.1))**2) > r_t/60)\n",
    "\n",
    "for ii in range(0,len(epsilon)):\n",
    "    for j in range(0,2):#len(min_samps)):\n",
    "        print([ii], [j])\n",
    "        # DBSCANN - parallax before scan\n",
    "        GlobClust_Log_parallaxover_out = GlobClust_Log_parallaxerror_out/GlobClust_Log_parallax_out\n",
    "        \n",
    "        #parallax_indx = (GC_parallaxover>0.20) | ((1/GC_parallax>5.)*(GC_parallaxover<0.20))\n",
    "        parallax_indx2=((1/GlobClust_Log_parallax_out<5.)*(GlobClust_Log_parallaxover_out<0.10))\n",
    "        parallax_indx2=[not i for i in parallax_indx2]\n",
    "\n",
    "        coord_ra_dec_deg=[]\n",
    "        coord_ra_dec = SkyCoord(GlobClust_Log_radec.loc[:,\"RA\"], GlobClust_Log_radec.loc[:,\"DEC\"], frame='icrs')\n",
    "        print(coord_ra_dec)\n",
    "\n",
    "        DB_Params =[]\n",
    "        DB_Params=np.transpose(DB_Params)\n",
    "\n",
    "        DF={'M': GlobClust_Log_M[parallax_indx][pm_indx]/7, 'rpbp': GlobClust_Log_rpbp[parallax_indx][pm_indx], \n",
    "            'pmra': GlobClust_Log_pmra[parallax_indx][pm_indx]/50, 'pmdec': GlobClust_Log_pmdec[parallax_indx][pm_indx]/50}\n",
    "\n",
    "\n",
    "        DB_Params = pd.DataFrame(data=DF)\n",
    "        DB_Params=DB_Params.dropna()\n",
    "\n",
    "        print(DB_Params.shape)\n",
    "\n",
    "        db=sklearn.cluster.DBSCAN(eps=epsilon[ii], min_samples=min_samps[j], metric='euclidean', metric_params=None, algorithm='auto',\n",
    "                      leaf_size=30, p=None, n_jobs=1).fit(DB_Params) #original eps=0.1625\n",
    "\n",
    "        #print(db.labels_)\n",
    "        print((db.labels_).shape)\n",
    "\n",
    "        fig=plt.figure(figsize=(18,12))\n",
    "        plt.hexbin(x=GlobClust_Log_rpbp[parallax_indx], y=GlobClust_Log_M[parallax_indx]/7, gridsize=500,bins='log',cmap='gist_yarg', rasterized=True)#, extent=[-0.5,0.5,  0,2.5])\n",
    "        \n",
    "        core_samples_mask = np.zeros_like(db.labels_, dtype=bool)\n",
    "        core_samples_mask[db.core_sample_indices_] = True\n",
    "        labels = db.labels_\n",
    "\n",
    "        # Number of clusters in labels, ignoring noise if present.\n",
    "        n_clusters_ = len(set(labels)) - (1 if -1 in labels else 0)\n",
    "\n",
    "        print('Estimated number of Subgroups: %d' % n_clusters_)\n",
    "\n",
    "        x_param3=[]\n",
    "        y_param3=[]\n",
    "\n",
    "        x_param4=[]\n",
    "        y_param4=[]\n",
    "\n",
    "        # Black removed and is used for noise instead.\n",
    "        unique_labels = set(labels)\n",
    "        colors = [plt.cm.Spectral(each)\n",
    "              for each in np.linspace(0, 1, len(unique_labels))]\n",
    "        for k, col in zip(unique_labels, colors):\n",
    "            if k == -1:\n",
    "                # Black used for noise.\n",
    "                col = [0, 0, 0, 1]\n",
    "\n",
    "            class_member_mask = (labels == k)\n",
    "\n",
    "            #NOISE\n",
    "            #xy = DB_Params[class_member_mask & ~core_samples_mask]\n",
    "            #plt.plot(xy.loc[:, \"rpbp\"], xy.loc[:, \"M\"], 'o', markerfacecolor=tuple(col),\n",
    "            #         markeredgecolor='k', markersize=6)\n",
    "\n",
    "            #CLEANED DATA\n",
    "            xy = DB_Params[class_member_mask & core_samples_mask]\n",
    "\n",
    "            plt.plot(xy.loc[:, \"rpbp\"], xy.loc[:, \"M\"], '.', markerfacecolor=tuple(col), rasterized=True)\n",
    "                     #markeredgecolor='k', markersize=14,  )\n",
    "\n",
    "            x_param3.append(xy.loc[:, \"rpbp\"])\n",
    "            y_param3.append(xy.loc[:, \"M\"]*7)\n",
    "\n",
    "\n",
    "        plt.gca().invert_yaxis()\n",
    "        plt.title('Estimated number of Subgroups: %d, [%.3f] [%d]' % (n_clusters_, epsilon[ii], min_samps[j]))\n",
    "        #cb=plt.colorbar()\n",
    "        #cb.ax.tick_params(labelsize=15)\n",
    "        plt.xlabel('bp-rp', fontsize=15)\n",
    "        plt.ylabel('M', fontsize=15)\n",
    "\n",
    "        #plt.legend()\n",
    "        #plt.show()\n",
    "        fig.savefig('GC_DBSCAN_'+ GlobClust_Log_ID.loc[0] +'_CMD_15rt_'+ str(epsilon[ii])  + '_' +  str(min_samps[j]) +'.pdf')\n",
    "        plt.close()\n",
    "\n",
    "\n",
    "        x_out3 = pd.DataFrame(x_param3)#, index=None)#, mangle_dupe_cols=True)\n",
    "        x_out3.reset_index()\n",
    "        x_out3 = x_out3.transpose()\n",
    "        x_out3 = x_out3.loc[:,~x_out3.columns.duplicated()]\n",
    "        \n",
    "        y_out3 = pd.DataFrame(y_param3)#, index=None)#, mangle_dupe_cols=True)\n",
    "        y_out3.reset_index()\n",
    "        y_out3 = y_out3.transpose()\n",
    "        y_out3 = y_out3.loc[:,~y_out3.columns.duplicated()]\n",
    "        #y_out3 = y_out3[\"M\"].as_matrix()\n",
    "        #print(shape(y_out3))\n",
    "\n",
    "        GC_ra = pd.DataFrame({'ra':GlobClust_Log_ra})\n",
    "        GC_dec = pd.DataFrame({'dec':GlobClust_Log_dec})\n",
    "        GC_pmra = pd.DataFrame({'pmra':GlobClust_Log_pmra})\n",
    "        GC_pmdec = pd.DataFrame({'pmdec':GlobClust_Log_pmdec})\n",
    "        GC_pmra_error = pd.DataFrame({'pmra_error':GlobClust_Log_pmra_error})\n",
    "        GC_pmdec_error = pd.DataFrame({'pmdec_error':GlobClust_Log_pmdec_error})\n",
    "\n",
    "        ra_DB = GC_ra.reindex(x_out3.index)\n",
    "        dec_DB = GC_dec.reindex(y_out3.index)\n",
    "        pmra_DB = GC_pmra.reindex(x_out3.index)\n",
    "        pmdec_DB = GC_pmdec.reindex(y_out3.index)\n",
    "        pmra_DB_error = GC_pmra_error.reindex(x_out3.index)\n",
    "        pmdec_DB_error = GC_pmdec_error.reindex(y_out3.index)\n",
    "        M_DB = GlobClust_Log_M.reindex(y_out3.index)\n",
    "        rpbp_DB = GlobClust_Log_rpbp.reindex(y_out3.index)\n",
    "        \n",
    "        pmra_DB_norm = (pmra_DB-pmra_DB.mean())#/(pmra_DB.mean())\n",
    "        pmdec_DB_norm = (pmdec_DB-pmdec_DB.mean())#/(pmdec_DB.mean())\n",
    "\n",
    "        fig = plt.figure(figsize=(16,12))\n",
    "        ax = plt.gca()\n",
    "        #plt.scatter(ra_DB-ra_DB.mean(), dec_DB-dec_DB.mean(), c='r', alpha=0.2, label='original from DBSCANN' )\n",
    "        plt.scatter(ra_DB-coord_ra_dec.ra.deg, dec_DB-coord_ra_dec.dec.deg, c=pmdec_DB_norm, marker='o', s=100,\n",
    "                cmap='inferno_r', vmin=-1, vmax=1, label='eps= %.3f, minsamp= %d, error < 1' %(epsilon[ii], min_samps[j]),  rasterized=True)#, label='with parallax criteria after DBSCANN')\n",
    "        circle = plt.Circle((0, 0), GlobClust_Log_r_t[0]/60, color='k', fill=False, lw=5)\n",
    "        #circle2 = plt.Circle((0, 0), 4*GlobClust_Log_r_t[0]/60, color='b', fill=False, lw=5)\n",
    "        ax.add_artist(circle)\n",
    "        #ax.add_artist(circle2)\n",
    "        plt.title('[%d]: eps=%.3f; [%d]: min samps=%f' % (ii, epsilon[ii], j, min_samps[j]))\n",
    "        #plt.plot(x, y, label='y = %.2f x + %.2f' %(A, B))\n",
    "        #('eps='+ epsilon[i] +', min samps='+ min_samps[i]) #'out_GCStars_'+ GC_IDs[i] +'_cutplot_r_c.csv'\n",
    "        cb=plt.colorbar()\n",
    "        cb.ax.tick_params(labelsize=15)\n",
    "        cb.set_label(r'$\\mathrm{pmdec}$',fontsize=15)\n",
    "        plt.xlabel('ra', fontsize=15)\n",
    "        plt.ylabel('dec', fontsize=15)\n",
    "        #plt.legend()\n",
    "        #plt.show()\n",
    "        fig.savefig('GC_DBSCAN_'+ GlobClust_Log_ID.loc[0] +'_radec-pmdec_15rt_'+ str(epsilon[ii])  + '_' +  str(min_samps[j]) +'.pdf')\n",
    "        plt.close()\n",
    "\n",
    "        fig = plt.figure(figsize=(16,12))\n",
    "        plt.scatter(pmra_DB, pmdec_DB, marker='.', rasterized=True)\n",
    "        plt.title('pmdec vs pmra, [%d] [%d], [%.3f] [%d]' %(ii,j, epsilon[ii], min_samps[j]))\n",
    "        plt.xlabel('pmra', fontsize=15)\n",
    "        plt.ylabel('pmdec', fontsize=15)\n",
    "        fig.savefig('GC_DBSCAN_'+ GlobClust_Log_ID.loc[0] +'_pms_15rt_'+ str(epsilon[ii]) + '_' +  str(min_samps[j]) +'.pdf')\n",
    "        plt.close()\n",
    "        \n",
    "        clust_indx = (np.sqrt((np.fabs(ra_DB.as_matrix()-coord_ra_dec.ra.deg)**2+np.fabs(dec_DB.as_matrix()-coord_ra_dec.dec.deg)**2))\n",
    "              >Tidal_Edge/60)\n",
    "        \n",
    "        quad_I_n = ((ra_n[tidal_indx_sq2]-0.85) > coord_ra_dec.ra.deg[0]) *\\\n",
    "                   ((dec_n[tidal_indx_sq2]-0.1) > coord_ra_dec.dec.deg[0])\n",
    "    \n",
    "        quad_II_n = ((ra_n[tidal_indx_sq2]-0.85) < coord_ra_dec.ra.deg[0]) *\\\n",
    "                    ((dec_n[tidal_indx_sq2]-0.1) > coord_ra_dec.dec.deg[0])\n",
    "    \n",
    "        quad_III_n = ((ra_n[tidal_indx_sq2]-0.85) < coord_ra_dec.ra.deg[0]) *\\\n",
    "                     ((dec_n[tidal_indx_sq2]-0.1) < coord_ra_dec.dec.deg[0])\n",
    "    \n",
    "        quad_IV_n = ((ra_n[tidal_indx_sq2]-0.85) > coord_ra_dec.ra.deg[0]) *\\\n",
    "                    ((dec_n[tidal_indx_sq2]-0.1) < coord_ra_dec.dec.deg[0])\n",
    "    \n",
    "\n",
    "        quad_I_DB = ((ra_DB.as_matrix()[clust_indx]) > coord_ra_dec.ra.deg[0]) *\\\n",
    "                    ((dec_DB.as_matrix()[clust_indx]) > coord_ra_dec.dec.deg[0])\n",
    "    \n",
    "        quad_II_DB = ((ra_DB.as_matrix()[clust_indx]) < coord_ra_dec.ra.deg[0]) *\\\n",
    "                     ((dec_DB.as_matrix()[clust_indx]) > coord_ra_dec.dec.deg[0])\n",
    "    \n",
    "        quad_III_DB = ((ra_DB.as_matrix()[clust_indx]) < coord_ra_dec.ra.deg[0]) *\\\n",
    "                      ((dec_DB.as_matrix()[clust_indx]) < coord_ra_dec.dec.deg[0])\n",
    "    \n",
    "        quad_IV_DB = ((ra_DB.as_matrix()[clust_indx]) > coord_ra_dec.ra.deg[0]) *\\\n",
    "                     ((dec_DB.as_matrix()[clust_indx]) < coord_ra_dec.dec.deg[0])\n",
    "        \n",
    "        \n",
    "        D, QI_pmdec_ks_p = st.stats.ks_2samp(pmdec_n_norm[tidal_indx_sq2][quad_I_n], np.asarray(pmdec_DB_norm[clust_indx][quad_I_DB])[:,0])\n",
    "        D, QII_pmdec_ks_p = st.stats.ks_2samp(pmdec_n_norm[tidal_indx_sq2][quad_II_n], np.asarray(pmdec_DB_norm[clust_indx][quad_II_DB])[:,0])\n",
    "        D, QIII_pmdec_ks_p = st.stats.ks_2samp(pmdec_n_norm[tidal_indx_sq2][quad_III_n], np.asarray(pmdec_DB_norm[clust_indx][quad_III_DB])[:,0])\n",
    "        D, QIV_pmdec_ks_p = st.stats.ks_2samp(pmdec_n_norm[tidal_indx_sq2][quad_IV_n], np.asarray(pmdec_DB_norm[clust_indx][quad_IV_DB])[:,0])\n",
    "        \n",
    "        D, QI_pmra_ks_p = st.stats.ks_2samp(pmra_n_norm[tidal_indx_sq2][quad_I_n], np.asarray(pmra_DB_norm[clust_indx][quad_I_DB])[:,0])\n",
    "        D, QII_pmra_ks_p = st.stats.ks_2samp(pmra_n_norm[tidal_indx_sq2][quad_II_n], np.asarray(pmra_DB_norm[clust_indx][quad_II_DB])[:,0])\n",
    "        D, QIII_pmra_ks_p = st.stats.ks_2samp(pmra_n_norm[tidal_indx_sq2][quad_III_n], np.asarray(pmra_DB_norm[clust_indx][quad_III_DB])[:,0])\n",
    "        D, QIV_pmra_ks_p = st.stats.ks_2samp(pmra_n_norm[tidal_indx_sq2][quad_IV_n], np.asarray(pmra_DB_norm[clust_indx][quad_IV_DB])[:,0])\n",
    "                \n",
    "        D, QI_dec_ks_p = st.stats.ks_2samp(dec_n[tidal_indx_sq2][quad_I_n], np.asarray(dec_DB[clust_indx][quad_I_DB])[:,0])\n",
    "        D, QII_dec_ks_p = st.stats.ks_2samp(dec_n[tidal_indx_sq2][quad_II_n], np.asarray(dec_DB[clust_indx][quad_II_DB])[:,0])\n",
    "        D, QIII_dec_ks_p = st.stats.ks_2samp(dec_n[tidal_indx_sq2][quad_III_n], np.asarray(dec_DB[clust_indx][quad_III_DB])[:,0])\n",
    "        D, QIV_dec_ks_p = st.stats.ks_2samp(dec_n[tidal_indx_sq2][quad_IV_n], np.asarray(dec_DB[clust_indx][quad_IV_DB])[:,0])\n",
    "\n",
    "        D, QI_ra_ks_p = st.stats.ks_2samp(ra_n[tidal_indx_sq2][quad_I_n], np.asarray(ra_DB[clust_indx][quad_I_DB])[:,0])\n",
    "        D, QII_ra_ks_p = st.stats.ks_2samp(ra_n[tidal_indx_sq2][quad_II_n], np.asarray(ra_DB[clust_indx][quad_II_DB])[:,0])\n",
    "        D, QIII_ra_ks_p = st.stats.ks_2samp(ra_n[tidal_indx_sq2][quad_III_n], np.asarray(ra_DB[clust_indx][quad_III_DB])[:,0])\n",
    "        D, QIV_ra_ks_p = st.stats.ks_2samp(ra_n[tidal_indx_sq2][quad_IV_n], np.asarray(ra_DB[clust_indx][quad_IV_DB])[:,0])\n",
    "        \n",
    "        row = [str(ii+1),\\\n",
    "               str(QI_pmdec_ks_p), str(QII_pmdec_ks_p), str(QIII_pmdec_ks_p), str(QIV_pmdec_ks_p),\\\n",
    "               str(QI_dec_ks_p), str(QII_dec_ks_p), str(QIII_dec_ks_p), str(QIV_dec_ks_p),\\\n",
    "               str(QI_pmra_ks_p), str(QII_pmra_ks_p), str(QIII_pmra_ks_p), str(QIV_pmra_ks_p),\\\n",
    "               str(QI_ra_ks_p), str(QII_ra_ks_p), str(QIII_ra_ks_p), str(QIV_ra_ks_p)]\n",
    "        \n",
    "        with open('ks_test_ps.csv', 'w') as csvFile:\n",
    "            writer = csv.writer(csvFile)\n",
    "            writer.writerow(row)\n",
    "            \n",
    "        csvFile.close()\n",
    "\n",
    "        str_name_cmd='GC_DBSCAN_'+ GlobClust_Log_ID.loc[0] +'_CMD_15rt_'+ str(epsilon[ii]) + '_' + str(min_samps[j]) + '.pdf'\n",
    "        str_name_radec='GC_DBSCAN_'+ GlobClust_Log_ID.loc[0] +'_radec-pmdec_15rt_'+ str(epsilon[ii]) + '_' + str(min_samps[j]) +'.pdf'\n",
    "        str_name_pms=\"GC_DBSCAN_\"+ GlobClust_Log_ID.loc[0] +\"_pms_15rt_\"+ str(epsilon[ii]) + '_' + str(min_samps[j]) +\".pdf\"\n",
    "\n",
    "        # Appending PDFs of GC's of Interest\n",
    "        CMD_stream = open(str_name_cmd, \"rb\")\n",
    "        radec_stream = open(str_name_radec, \"rb\")\n",
    "        pms_stream = open(str_name_pms, \"rb\")\n",
    "        \n",
    "        CMD_input = PdfFileReader(CMD_stream)\n",
    "        radec_input = PdfFileReader(radec_stream)\n",
    "        pms_input = PdfFileReader(pms_stream)\n",
    "        \n",
    "        #append_pdf(PdfFileReader(open(str_name, \"rb\")), output)\n",
    "        #append_pdf(PdfFileReader(open(\"GC_DBSCAN_\"+ GlobClust_Log_ID.loc[0] +\"_CMD_15rt_\"+ str(ii)+ '_' +str(j) + \".pdf\",\"rb\")),output)\n",
    "        #append_pdf(PdfFileReader(open(\"GC_DBSCAN_\"+ GlobClust_Log_ID.loc[0] +\"_radec-pmdec_15rt_\"+ str(ii)+ '_' +str(j) +\".pdf\",\"rb\")),output)\n",
    "        #append_pdf(PdfFileReader(open(\"GC_DBSCAN_\"+ GlobClust_Log_ID.loc[0] +\"_pms_15rt_\"+ str(ii)+ '_' +str(j) +\".pdf\",\"rb\")),output)\n",
    "        #append_pdf(PdfFileReader(open(\"GC_DBSCAN_\"+ GlobClust_Log_ID.loc[0] +\"_density_15rt_\"+ str(ii)+ '_' +str(j) +\".pdf\",\"rb\")),output)\n",
    "        \n",
    "        append_pdf(CMD_input, output)\n",
    "        append_pdf(radec_input, output)\n",
    "        append_pdf(pms_input, output)\n",
    "\n",
    "        # Writing all the collected pages to a file\n",
    "        output.write(open(\"GC_NGC288_DBSCANs2.pdf\",\"wb\"))\n",
    "        \n",
    "        CMD_stream.close()\n",
    "        radec_stream.close()\n",
    "        pms_stream.close()\n",
    "        \n",
    "        \n",
    "        #str_name='GC_DBSCAN_'+ GlobClust_Log_ID.loc[0] +'_CMD_12rt_'+ str(ii) + str(j) + '.pdf'\n",
    "\n",
    "        # Appending PDFs of GC's of Interest\n",
    "        #append_pdf(PdfFileReader(open(str_name, \"rb\")), output)\n",
    "        #append_pdf(PdfFileReader(open(\"GC_DBSCAN_\"+ GlobClust_Log_ID.loc[0] +\"_CMD_12rt_\"+ str(ii) + str(j) +\".pdf\",\"rb\")),output)\n",
    "        #'GC_DBSCAN_'+ GlobClust_Log_ID.loc[0] +'_CMD_12rt_'+ str(ii) + str(j) +\n",
    "        #append_pdf(PdfFileReader(open(\"GC_DBSCAN_\"+ GlobClust_Log_ID.loc[0] +\"_CMD_12rt_\"+ str(ii) + str(j) + \".pdf\",\"rb\")),output)\n",
    "        #append_pdf(PdfFileReader(open(\"GC_DBSCAN_\"+ GlobClust_Log_ID.loc[0] +\"_radec-pmdec_12rt_\"+ str(ii) + str(j) +\".pdf\",\"rb\")),output)\n",
    "        #append_pdf(PdfFileReader(open(\"GC_DBSCAN_\"+ GlobClust_Log_ID.loc[0] +\"_pms_12rt_\"+ str(ii) + str(j) +\".pdf\",\"rb\")),output)\n",
    "        #append_pdf(PdfFileReader(open(\"GC_DBSCAN_\"+ GlobClust_Log_ID.loc[0] +\"_density_12rt_\"+ str(ii) + str(j) +\".pdf\",\"rb\")),output)\n",
    "\n",
    "\n",
    "        # Writing all the collected pages to a file\n",
    "        #output.write(open(\"GC_NGC288_DBSCANs.pdf\",\"wb\"))\n"
   ]
  },
  {
   "cell_type": "code",
   "execution_count": null,
   "metadata": {},
   "outputs": [],
   "source": [
    "import numpy as np\n",
    "\n",
    "epsilon = np.arange(0.02, 0.042, 0.001)\n",
    "min_samps = np.arange(10, 42, 1)"
   ]
  },
  {
   "cell_type": "code",
   "execution_count": 37,
   "metadata": {},
   "outputs": [
    {
     "name": "stdout",
     "output_type": "stream",
     "text": [
      "(22,) (32,)\n"
     ]
    }
   ],
   "source": [
    "print(np.shape(epsilon), np.shape(min_samps))"
   ]
  },
  {
   "cell_type": "code",
   "execution_count": 38,
   "metadata": {},
   "outputs": [
    {
     "data": {
      "text/plain": [
       "array([0.02 , 0.021, 0.022, 0.023, 0.024, 0.025, 0.026, 0.027, 0.028,\n",
       "       0.029, 0.03 , 0.031, 0.032, 0.033, 0.034, 0.035, 0.036, 0.037,\n",
       "       0.038, 0.039, 0.04 , 0.041])"
      ]
     },
     "execution_count": 38,
     "metadata": {},
     "output_type": "execute_result"
    }
   ],
   "source": [
    "epsilon\n",
    "#min_samps"
   ]
  },
  {
   "cell_type": "code",
   "execution_count": 39,
   "metadata": {},
   "outputs": [
    {
     "data": {
      "text/plain": [
       "2112"
      ]
     },
     "execution_count": 39,
     "metadata": {},
     "output_type": "execute_result"
    }
   ],
   "source": [
    "len(epsilon)*len(min_samps)*3"
   ]
  },
  {
   "cell_type": "code",
   "execution_count": 63,
   "metadata": {},
   "outputs": [
    {
     "data": {
      "text/plain": [
       "'1'"
      ]
     },
     "execution_count": 63,
     "metadata": {},
     "output_type": "execute_result"
    }
   ],
   "source": [
    "str(ii+1)"
   ]
  },
  {
   "cell_type": "code",
   "execution_count": null,
   "metadata": {
    "collapsed": true
   },
   "outputs": [],
   "source": []
  }
 ],
 "metadata": {
  "kernelspec": {
   "display_name": "Python 3",
   "language": "python",
   "name": "python3"
  },
  "language_info": {
   "codemirror_mode": {
    "name": "ipython",
    "version": 3
   },
   "file_extension": ".py",
   "mimetype": "text/x-python",
   "name": "python",
   "nbconvert_exporter": "python",
   "pygments_lexer": "ipython3",
   "version": "3.6.2"
  }
 },
 "nbformat": 4,
 "nbformat_minor": 2
}
