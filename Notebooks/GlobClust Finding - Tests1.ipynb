{
 "cells": [
  {
   "cell_type": "code",
   "execution_count": 1,
   "metadata": {},
   "outputs": [
    {
     "name": "stdout",
     "output_type": "stream",
     "text": [
      "Created TAP+ (v1.0.1) - Connection:\n",
      "\tHost: gea.esac.esa.int\n",
      "\tUse HTTPS: False\n",
      "\tPort: 80\n",
      "\tSSL Port: 443\n",
      "Populating the interactive namespace from numpy and matplotlib\n"
     ]
    }
   ],
   "source": [
    "from gaia_tools import query\n",
    "#import gaia_tools\n",
    "import matplotlib\n",
    "#matplotlib.use(\"AGG\") #--> for script!!\n",
    "import matplotlib.pyplot as plt\n",
    "import numpy as np\n",
    "\n",
    "#--> for notebook!!\n",
    "%pylab inline "
   ]
  },
  {
   "cell_type": "markdown",
   "metadata": {},
   "source": [
    "token ae93ee3290ac1e0eedc92d100732d2e64f8cfd9b087bd482"
   ]
  },
  {
   "cell_type": "code",
   "execution_count": null,
   "metadata": {
    "collapsed": true
   },
   "outputs": [],
   "source": [
    "globquery=\"\"\"select ra, dec, l, b, pmra, pmdec from gaiadr2.gaia_source where abs(l-307.35370)<0.1 and\\\n",
    " a\\\n",
    "bs(b-(-20.47324))<0.1 limit 100\"\"\"\n"
   ]
  },
  {
   "cell_type": "code",
   "execution_count": null,
   "metadata": {
    "collapsed": true
   },
   "outputs": [],
   "source": [
    "globquery=\"\"\"select ra, dec, l, b, pmra, pmdec from gaiadr2.gaia_source where abs(l-305.89)<0.1 and\\\n",
    " a\\\n",
    "bs(b-(-44.89))<0.1 limit 10000\"\"\""
   ]
  },
  {
   "cell_type": "code",
   "execution_count": null,
   "metadata": {
    "collapsed": true
   },
   "outputs": [],
   "source": [
    "globquery=\"\"\"select ra, dec, l, b, pmra, pmdec from gaiadr2.gaia_source where abs(ra-6.0194)<1.0 and\\\n",
    " a\\\n",
    "bs(dec-(-72.0821))<1.0 limit 1000\"\"\""
   ]
  },
  {
   "cell_type": "code",
   "execution_count": null,
   "metadata": {
    "collapsed": true,
    "scrolled": true
   },
   "outputs": [],
   "source": [
    "out=query.query(globquery,local=True,timeit=True)"
   ]
  },
  {
   "cell_type": "code",
   "execution_count": null,
   "metadata": {
    "collapsed": true
   },
   "outputs": [],
   "source": [
    "outl=out['l']\n",
    "outb=out['b']\n",
    "pmra=out['pmra']\n",
    "pmdec=out['pmdec']\n",
    "\n",
    "outl = outl[500:4079]\n",
    "outb = outb[500:4079]\n",
    "pmra = pmra[500:4079]\n",
    "pmdec = pmdec[500:4079]\n"
   ]
  },
  {
   "cell_type": "code",
   "execution_count": null,
   "metadata": {
    "scrolled": false
   },
   "outputs": [],
   "source": [
    "plt.figure(figsize=(16,10))\n",
    "plt.scatter(x=out['l'], y=out['b'], c=out['pmra'], cmap='spectral' , vmax=1.5, vmin=-3)\n",
    "plt.xlabel('l (deg)', fontsize=15)\n",
    "plt.ylabel('b (deg)', fontsize=15)\n",
    "plt.title('b vs l (deg) of Globular Cluster by pmra', fontsize=15)\n",
    "cb=plt.colorbar()\n",
    "cb.ax.tick_params(labelsize=15)\n",
    "cb.set_label(r'$\\mathrm{pmra}$',fontsize=15)\n",
    "gca().tick_params(labelsize=15)\n",
    "#gca().set_ylim([-20.4,-20.55])\n",
    "#gca().set_xlim([307.25,307.45])\n",
    "plt.show()\n"
   ]
  },
  {
   "cell_type": "code",
   "execution_count": null,
   "metadata": {},
   "outputs": [],
   "source": [
    "plt.figure(figsize=(16,10))\n",
    "plt.scatter(x=out['l'], y=out['b'], c=out['pmra'], cmap='inferno', vmax=1.5, vmin=-3)\n",
    "plt.xlabel('l (deg)', fontsize=15)\n",
    "plt.ylabel('b (deg)', fontsize=15)\n",
    "plt.title('b vs l (deg) of Globular Cluster by pmra', fontsize=15)\n",
    "cb=plt.colorbar()\n",
    "cb.ax.tick_params(labelsize=15)\n",
    "cb.set_label(r'$\\mathrm{pmra}$',fontsize=15)\n",
    "gca().tick_params(labelsize=15)\n",
    "#gca().set_ylim([-20.4,-20.55])\n",
    "#gca().set_xlim([307.25,307.45])\n",
    "plt.show()\n"
   ]
  },
  {
   "cell_type": "code",
   "execution_count": null,
   "metadata": {},
   "outputs": [],
   "source": [
    "plt.figure(figsize=(16,12))\n",
    "plt.scatter(x=out['l'], y=out['b'])#, c=out['pmra'], cmap='spectral', vmax=1, vmin=-2)\n",
    "plt.xlabel('l (deg)', fontsize=15)\n",
    "plt.ylabel('b (deg)', fontsize=15)\n",
    "plt.title('b vs l (deg) of Globular Cluster', fontsize=15)\n",
    "#cb=plt.colorbar()\n",
    "#cb.ax.tick_params(labelsize=15)\n",
    "#cb.set_label(r'$\\mathrm{pmra}$',fontsize=15)\n",
    "gca().tick_params(labelsize=15)\n",
    "#gca().set_ylim([-20.4,-20.55])\n",
    "#gca().set_xlim([307.25,307.45])\n",
    "plt.show()"
   ]
  },
  {
   "cell_type": "code",
   "execution_count": null,
   "metadata": {
    "collapsed": true
   },
   "outputs": [],
   "source": [
    "#fig.savefig('GC_10000_pmra.pdf')"
   ]
  },
  {
   "cell_type": "code",
   "execution_count": null,
   "metadata": {
    "collapsed": true
   },
   "outputs": [],
   "source": [
    "#print(out['b'])\n",
    "#print(shape(out['b']))\n",
    "#print(shape(out))\n",
    "#print(out['l'])\n",
    "#print(out['pmra'])\n",
    "#print(out['pmdec'])"
   ]
  },
  {
   "cell_type": "code",
   "execution_count": null,
   "metadata": {},
   "outputs": [],
   "source": [
    "plt.figure(figsize=(16,12))\n",
    "plt.scatter(x=out['l'], y=out['b'], c=out['pmdec'], cmap='spectral', vmax=3, vmin=-2)\n",
    "plt.xlabel('l (deg)', fontsize=15)\n",
    "plt.ylabel('b (deg)', fontsize=15)\n",
    "plt.title('b vs l (deg) of Globular Cluster by pmdec', fontsize=15)\n",
    "#plt.colorbar()\n",
    "cb=plt.colorbar()\n",
    "cb.ax.tick_params(labelsize=15)\n",
    "cb.set_label(r'$\\mathrm{pmdec}$',fontsize=15)\n",
    "gca().tick_params(labelsize=15)\n",
    "gca().set_ylim([-20.4,-20.55])\n",
    "gca().set_xlim([307.25,307.45])\n",
    "plt.show()"
   ]
  },
  {
   "cell_type": "markdown",
   "metadata": {
    "collapsed": true
   },
   "source": [
    "###### fig.savefig('GC_10000_pmdec.pdf')"
   ]
  },
  {
   "cell_type": "code",
   "execution_count": null,
   "metadata": {},
   "outputs": [],
   "source": [
    "plt.figure(figsize=(16,12))\n",
    "plt.scatter(x=out['l'], y=out['b'])#, c=out['pmdec'], cmap='spectral', vmax=3, vmin=-2)\n",
    "plt.xlabel('l (deg)', fontsize=15)\n",
    "plt.ylabel('b (deg)', fontsize=15)\n",
    "plt.title('b vs l (deg) of Globular Cluster', fontsize=15)\n",
    "#plt.colorbar()\n",
    "#cb=plt.colorbar()\n",
    "#cb.ax.tick_params(labelsize=15)\n",
    "#cb.set_label(r'$\\mathrm{pmdec}$',fontsize=15)\n",
    "gca().tick_params(labelsize=15)\n",
    "gca().set_ylim([-20.42,-20.52])\n",
    "gca().set_xlim([307.3,307.4])\n",
    "plt.show()"
   ]
  },
  {
   "cell_type": "markdown",
   "metadata": {
    "collapsed": true
   },
   "source": [
    "PYTHONPATH=~/local/lib/python3.6/site-packages:~/gaia_tools/gaia_tools:"
   ]
  },
  {
   "cell_type": "code",
   "execution_count": null,
   "metadata": {
    "collapsed": true
   },
   "outputs": [],
   "source": []
  },
  {
   "cell_type": "code",
   "execution_count": null,
   "metadata": {},
   "outputs": [],
   "source": [
    "import pandas as pd\n",
    "import numpy as np\n",
    "\n",
    "GlobClust_Log = pd.read_csv('~/GlobClust_l-b-r_h.csv')\n",
    "#GlobClust_Log = GlobClust_Log.set_index(\"ID\", drop = True) #--> List by ID for index\n",
    "GlobClust_Log_short = GlobClust_Log.loc[0:5,\"ID\":\"r_h\"]\n",
    "#GlobClust_Log_short = GlobClust_Log.loc[\"NGC 104\":\"NGC 362\",\"L\":\"B\"]\n",
    "GlobClust_Log_l = GlobClust_Log_short.loc[:,\"L\"]\n",
    "GlobClust_Log_b = GlobClust_Log_short.loc[:,\"B\"]\n",
    "GlobClust_Log_noID = GlobClust_Log_short.loc[:,\"L\":]\n",
    "GlobClust_Log_ID = GlobClust_Log_short.loc[:,\"ID\"]\n",
    "GlobClust_Log_r_h = GlobClust_Log_short.loc[:,'r_h']\n",
    "#GlobClust_Log_l\n",
    "#GlobClust_Log_b\n",
    "GlobClust_Log_short\n",
    "#GlobClust_Log2=GlobClust_Log_short.loc[\"NGC 104\":\"NGC 362\", : ]\n",
    "#GlobClust_Log2\n",
    "\n",
    "#GlobClust_Log_b = np.array(GlobClust_Log_b)\n",
    "#print(GlobClust_Log_b)\n",
    "#for i in GlobClust_Log_b:\n",
    "#    print(GlobClust_Log_b[i])"
   ]
  },
  {
   "cell_type": "code",
   "execution_count": null,
   "metadata": {
    "collapsed": true
   },
   "outputs": [],
   "source": [
    "out_array=[]\n",
    "\n",
    "globquery=\"\"\"select ra, dec, l, b, pmra, pmdec from gaiadr2.gaia_source where abs(l-307.35370)<0.1 and a\\\n",
    "bs(b-(-20.47324))<0.1\"\"\"\n",
    "\n",
    "out1=query.query(globquery,local=True,timeit=True)\n",
    "\n",
    "out_array.append(out1)\n",
    "\n",
    "for i in len(out_array):\n",
    "   \n",
    "    "
   ]
  },
  {
   "cell_type": "code",
   "execution_count": null,
   "metadata": {},
   "outputs": [],
   "source": [
    "GlobClust_Log_r_h.loc[0]/60*3"
   ]
  },
  {
   "cell_type": "code",
   "execution_count": null,
   "metadata": {
    "collapsed": true
   },
   "outputs": [],
   "source": [
    "out?"
   ]
  },
  {
   "cell_type": "code",
   "execution_count": null,
   "metadata": {},
   "outputs": [],
   "source": [
    "from astropy.table import Table\n",
    "import pyexcel\n",
    "#import xlsxwriter\n",
    "#from pandas import xlsxwriter\n",
    "\n",
    "df_t=pd.DataFrame(np.array(out))\n",
    "\n",
    "#A = np.random.randint(0,10,size=36).reshape(6,6)\n",
    "#names = ['ID', 'ra', 'dec', 'l', 'b', 'pmra', 'pmdec']\n",
    "#df_t=pd.DataFrame(out,columns=names)\n",
    "df_t.to_csv('out'+ GlobClust_Log_ID[0] +'.csv', index=True, header=True)#, sep=' ')\n",
    "#df_t\n",
    "\n",
    "# Create a Pandas dataframe from some data.\n",
    "#df = pd.DataFrame({'Data': [10, 20, 30, 20, 15, 30, 45]})\n",
    "\n",
    "#sheet=GlobClust_Log_ID[0]\n",
    "#writer = pd.ExcelWriter('out'+ GlobClust_Log_ID[0] +'-test.xlsx')\n",
    "#df_t.to_excel(writer, sheet_name=sheet, index=True, header=True)\n",
    "\n",
    "# Create a Pandas Excel writer using XlsxWriter as the engine.\n",
    "#writer = pd.ExcelWriter('out'+ GlobClust_Log_ID[0] +'-test.xlsx', engine='xlsxwriter')\n",
    "\n",
    "#sheet=GlobClust_Log_ID[0]\n",
    "# Convert the dataframe to an XlsxWriter Excel object.\n",
    "#df_t.to_excel(writer, sheet_name=sheet)\n",
    "\n",
    "# Close the Pandas Excel writer and output the Excel file.\n",
    "#writer.save()\n",
    "\n",
    "df_t\n",
    "\n",
    "#df.to_csv('GC_'+ GlobClust_Log_ID[0] +'full_pmra_r_h-small.csv', index=True, header=True, sep=' ')\n",
    "\n",
    "#out_array\n"
   ]
  },
  {
   "cell_type": "code",
   "execution_count": null,
   "metadata": {},
   "outputs": [],
   "source": [
    "from astropy.table import Table\n",
    "import pyexcel\n",
    "\n",
    "#out_array=[]\n",
    "#out_array=np.array(out_array)\n",
    "\n",
    "globquery=\"\"\"select ra, dec, l, b, pmra, pmdec from gaiadr2.gaia_source where abs(l-%f)<%f and \\\n",
    "abs(b-(%f))<%f \"\"\" %(GlobClust_Log_l[0],GlobClust_Log_r_h[0]/60*3,GlobClust_Log_b[0],GlobClust_Log_r_h[0]/60*3)\n",
    "    \n",
    "out=query.query(globquery,local=True,timeit=True)\n",
    "#out_array=np.append(out_array, out)\n",
    "\n",
    "df_t=pd.DataFrame(np.array(out))\n",
    "df_t.to_csv('out'+ GlobClust_Log_ID[0] +'.csv', index=True, header=True)#, sep=' ')\n",
    "\n",
    "fig=plt.figure(figsize=(16,12))\n",
    "plt.scatter(x=out['l'], y=out['b'], c=out['pmra'], cmap='inferno')#, vmax=10, vmin=-10)\n",
    "plt.xlabel('l (deg)', fontsize=15)\n",
    "plt.ylabel('b (deg)', fontsize=15)\n",
    "plt.title('b (deg) vs l (deg) of ' + GlobClust_Log_ID[0], fontsize=15) #GlobClust_Log_ID[i]\n",
    "cb=plt.colorbar()\n",
    "cb.ax.tick_params(labelsize=15)\n",
    "cb.set_label(r'$\\mathrm{pmra}$',fontsize=15)\n",
    "gca().tick_params(labelsize=15)\n",
    "#gca().set_ylim([-20.4,-20.55])\n",
    "#gca().set_xlim([307.25,307.45])\n",
    "plt.show()\n",
    "fig.savefig('GC_'+ GlobClust_Log_ID[0] +'full_pmra_r_h-small.pdf')"
   ]
  },
  {
   "cell_type": "code",
   "execution_count": null,
   "metadata": {},
   "outputs": [],
   "source": [
    "A = np.random.randint(0,10,size=36).reshape(6,6)\n",
    "names = [_ for _ in 'abcdef']\n",
    "df=pd.DataFrame(A,index=names,columns=names)\n",
    "df.to_csv('df.csv', index=True, header=True, sep=' ')\n",
    "df"
   ]
  },
  {
   "cell_type": "code",
   "execution_count": null,
   "metadata": {},
   "outputs": [],
   "source": [
    "#pd.write_csv('GlobClust_Output.csv')\n",
    "\n",
    "#print(out_array)\n",
    "\n",
    "#print(out)\n",
    "\n",
    "out2=np.array(out)\n",
    "shape(out2)\n",
    "\n",
    "df = pd.DataFrame(columns=out_array[0,:])\n",
    "df\n",
    "\n",
    "#pd.DataFrame(data=out_array[1:,1:], index=out_array[1:,0], columns=out_array[0,1:] )"
   ]
  },
  {
   "cell_type": "code",
   "execution_count": null,
   "metadata": {
    "scrolled": false
   },
   "outputs": [],
   "source": [
    "#out_array=[]\n",
    "\n",
    "from astropy.table import Table\n",
    "import pyexcel\n",
    "\n",
    "for i in range(0,3): #Should be better\n",
    "    #if i<1:\n",
    "    #    \n",
    "    #print(GlobClust_Log_noID[i])\n",
    "    print(GlobClust_Log_l[i])\n",
    "    print(GlobClust_Log_b[i])\n",
    "    \n",
    "    globquery=\"\"\"select ra, dec, l, b, pmra, pmdec from gaiadr2.gaia_source where abs(l-%f)<%f and\\\n",
    "    abs(b-(%f))<%f limit 100\"\"\" %(GlobClust_Log_l[i],GlobClust_Log_r_h[i]/60*3,GlobClust_Log_b[i],GlobClust_Log_r_h[i]/60*3)\n",
    "    \n",
    "    out=query.query(globquery,local=True,timeit=True)\n",
    "    #out_array.append(out)\n",
    "    \n",
    "    df_t=pd.DataFrame(np.array(out))\n",
    "    df_t.to_csv('out'+ GlobClust_Log_ID[i] +'100_r_h-small.csv', index=True, header=True)#, sep=' ')\n",
    "    \n",
    "    #print(\"\")\n",
    "    #print(i)\n",
    "    #print(\"\")\n",
    "    #print(out['l']) \n",
    "    #print(out['b'])\n",
    "    #print(\"\")\n",
    "    \n",
    "    fig=plt.figure(figsize=(16,12))\n",
    "    plt.scatter(x=out['l'], y=out['b'], c=out['pmra'], cmap='inferno')#, vmax=10, vmin=-10)\n",
    "    plt.xlabel('l (deg)', fontsize=15)\n",
    "    plt.ylabel('b (deg)', fontsize=15)\n",
    "    plt.title('b (deg) vs l (deg) of ' + GlobClust_Log_ID[i], fontsize=15) #GlobClust_Log_ID[i]\n",
    "    cb=plt.colorbar()\n",
    "    cb.ax.tick_params(labelsize=15)\n",
    "    cb.set_label(r'$\\mathrm{pmra}$',fontsize=15)\n",
    "    gca().tick_params(labelsize=15)\n",
    "    #gca().set_ylim([-20.4,-20.55])\n",
    "    #gca().set_xlim([307.25,307.45])\n",
    "    plt.show()\n",
    "    fig.savefig('GC_'+ GlobClust_Log_ID[i] +'100_pmra_r_h-small.pdf')\n",
    "    \n",
    "    fig=plt.figure(figsize=(16,12))\n",
    "    plt.scatter(x=out['l'], y=out['b'], c=out['pmdec'], cmap='inferno')#, vmax=10, vmin=-10)\n",
    "    plt.xlabel('l (deg)', fontsize=15)\n",
    "    plt.ylabel('b (deg)', fontsize=15)\n",
    "    plt.title('b (deg) vs l (deg) of ' + GlobClust_Log_ID[i], fontsize=15) #GlobClust_Log_ID[i]\n",
    "    cb=plt.colorbar()\n",
    "    cb.ax.tick_params(labelsize=15)\n",
    "    cb.set_label(r'$\\mathrm{pmdec}$',fontsize=15)\n",
    "    gca().tick_params(labelsize=15)\n",
    "    #gca().set_ylim([-20.4,-20.55])\n",
    "    #gca().set_xlim([307.25,307.45])\n",
    "    plt.show()\n",
    "    fig.savefig('GC_'+ GlobClust_Log_ID[i] +'100_pmdec_r_h-small.pdf')\n",
    "    \n",
    "    \n",
    "#print(out_array)\n"
   ]
  },
  {
   "cell_type": "code",
   "execution_count": null,
   "metadata": {
    "collapsed": true
   },
   "outputs": [],
   "source": [
    "for i in range(0,1): #Should be better\n",
    "    #if i<1:\n",
    "    #    \n",
    "    #print(GlobClust_Log_noID[i])\n",
    "    print(GlobClust_Log_l[i])\n",
    "    print(GlobClust_Log_b[i])\n",
    "    \n",
    "    globquery=\"\"\"select ra, dec, l, b, pmra, pmdec from gaiadr2.gaia_source where abs(l-%f)<%f and\\\n",
    "    abs(b-(%f))<%f limit 100\"\"\" %(GlobClust_Log_l[i],GlobClust_Log_b[i],GlobClust_Log_b[i]/60*3,GlobClust_Log_b[i]/60*3)\n",
    "    \n",
    "    out=query.query(globquery,local=True,timeit=True)\n",
    "    out_array.append(out)"
   ]
  },
  {
   "cell_type": "code",
   "execution_count": null,
   "metadata": {},
   "outputs": [],
   "source": [
    "#print(out_array[1:2])\n",
    "out2=out_array[1:2]\n",
    "out2[1]\n",
    "#pd.DataFrame(\n",
    "\n",
    "\n",
    "#shape(out_array)"
   ]
  },
  {
   "cell_type": "code",
   "execution_count": null,
   "metadata": {
    "scrolled": false
   },
   "outputs": [],
   "source": [
    "for i in range(0,3): #CHANGE THIS\n",
    "    fig=plt.figure(figsize=(16,12))\n",
    "    plt.scatter(x=out_array['l'], y=out_array['b'], c=out_array['pmra'], cmap='inferno')#, vmax=10, vmin=-10)\n",
    "    plt.xlabel('l (deg)', fontsize=15)\n",
    "    plt.ylabel('b (deg)', fontsize=15)\n",
    "    plt.title('b (deg) vs l (deg) of ' + GlobClust_Log_ID[i], fontsize=15) #GlobClust_Log_ID[i]\n",
    "    cb=plt.colorbar()\n",
    "    cb.ax.tick_params(labelsize=15)\n",
    "    cb.set_label(r'$\\mathrm{pmra}$',fontsize=15)\n",
    "    gca().tick_params(labelsize=15)\n",
    "    #gca().set_ylim([-20.4,-20.55])\n",
    "    #gca().set_xlim([307.25,307.45])\n",
    "    plt.show()\n",
    "    #fig.savefig('GC_'+ GlobClust_Log_ID[i] +'_10000_pmra.pdf')"
   ]
  },
  {
   "cell_type": "code",
   "execution_count": null,
   "metadata": {
    "scrolled": false
   },
   "outputs": [],
   "source": [
    "for i in range(0,3): #CHANGE THIS\n",
    "    fig=plt.figure(figsize=(16,12))\n",
    "    plt.scatter(x=out['l'], y=out['b'], c=out['pmdec'], cmap='inferno', vmax=10, vmin=-10)\n",
    "    plt.xlabel('l (deg)', fontsize=15)\n",
    "    plt.ylabel('b (deg)', fontsize=15)\n",
    "    plt.title('b (deg) vs l (deg) of ' + GlobClust_Log_ID[i], fontsize=15) #GlobClust_Log_ID[i]\n",
    "    cb=plt.colorbar()\n",
    "    cb.ax.tick_params(labelsize=15)\n",
    "    cb.set_label(r'$\\mathrm{pmdec}$',fontsize=15)\n",
    "    gca().tick_params(labelsize=15)\n",
    "    #gca().set_ylim([-20.4,-20.55])\n",
    "    #gca().set_xlim([307.25,307.45])\n",
    "    plt.show()\n",
    "    #fig.savefig('GC_'+ GlobClust_Log_ID[i] +'_10000_pmdec.pdf')"
   ]
  },
  {
   "cell_type": "markdown",
   "metadata": {
    "collapsed": true
   },
   "source": [
    " fig.savefig('GC_'+ GlobClust_Log_ID[i] +'_10000_pmdec.pdf')"
   ]
  },
  {
   "cell_type": "code",
   "execution_count": null,
   "metadata": {
    "collapsed": true
   },
   "outputs": [],
   "source": []
  },
  {
   "cell_type": "code",
   "execution_count": null,
   "metadata": {},
   "outputs": [],
   "source": [
    "a =  np.arange(9).reshape(3,3)\n",
    "a"
   ]
  },
  {
   "cell_type": "code",
   "execution_count": null,
   "metadata": {},
   "outputs": [],
   "source": [
    "from astropy import units as u\n",
    "from astropy.coordinates import Angle\n",
    "\n",
    "Angle('1°2′3″')               # Unicode degree, arcmin and arcsec symbols  \n",
    "\n",
    "#<Angle 1.03416667 deg>"
   ]
  },
  {
   "cell_type": "code",
   "execution_count": null,
   "metadata": {},
   "outputs": [],
   "source": [
    "b=Angle('1d2m3.4s')\n",
    "b.degree"
   ]
  },
  {
   "cell_type": "code",
   "execution_count": null,
   "metadata": {},
   "outputs": [],
   "source": [
    "a=Angle((0, 3.17, 0), unit=u.deg)\n",
    "a.degree"
   ]
  },
  {
   "cell_type": "code",
   "execution_count": null,
   "metadata": {},
   "outputs": [],
   "source": [
    "for i in GlobClust_Log_short:\n",
    "    a=Angle('1d'+2+'3.4s') #%GlobClust_short[i]\n",
    "    a.degree"
   ]
  },
  {
   "cell_type": "code",
   "execution_count": null,
   "metadata": {},
   "outputs": [],
   "source": [
    "3.17/60"
   ]
  },
  {
   "cell_type": "code",
   "execution_count": null,
   "metadata": {},
   "outputs": [],
   "source": [
    "GlobClust_Log_r_h = GlobClust_Log.loc[0:37,'r_h']\n",
    "print(GlobClust_Log_r_h)\n",
    "\n",
    "'''for i in GlobClust_Log_r_h:\n",
    "    GlobClust_Log_r_h=GlobClust_Log_r_h.array()\n",
    "    r_h = []\n",
    "    #r_h = np.array(r_h)\n",
    "    r_h = r_h.append(GlobClust_Log_r_h(i))'''\n",
    "\n",
    "r_h\n",
    "    "
   ]
  },
  {
   "cell_type": "code",
   "execution_count": null,
   "metadata": {},
   "outputs": [],
   "source": [
    "GlobClust_Log_r_h/60"
   ]
  },
  {
   "cell_type": "code",
   "execution_count": null,
   "metadata": {},
   "outputs": [],
   "source": [
    "r_h = []\n",
    "r_h = np.array(r_h).reshape(:,1)\n",
    "r_h\n"
   ]
  },
  {
   "cell_type": "code",
   "execution_count": null,
   "metadata": {
    "collapsed": true
   },
   "outputs": [],
   "source": []
  }
 ],
 "metadata": {
  "kernelspec": {
   "display_name": "Python 3",
   "language": "python",
   "name": "python3"
  },
  "language_info": {
   "codemirror_mode": {
    "name": "ipython",
    "version": 3
   },
   "file_extension": ".py",
   "mimetype": "text/x-python",
   "name": "python",
   "nbconvert_exporter": "python",
   "pygments_lexer": "ipython3",
   "version": "3.6.2"
  }
 },
 "nbformat": 4,
 "nbformat_minor": 2
}
