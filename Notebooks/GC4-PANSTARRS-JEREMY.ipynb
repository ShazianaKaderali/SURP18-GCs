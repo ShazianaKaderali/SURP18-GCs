{
 "cells": [
  {
   "cell_type": "code",
   "execution_count": 1,
   "metadata": {},
   "outputs": [
    {
     "name": "stdout",
     "output_type": "stream",
     "text": [
      "Created TAP+ (v1.0.1) - Connection:\n",
      "\tHost: gea.esac.esa.int\n",
      "\tUse HTTPS: False\n",
      "\tPort: 80\n",
      "\tSSL Port: 443\n",
      "Populating the interactive namespace from numpy and matplotlib\n"
     ]
    }
   ],
   "source": [
    "#from gaia_tools import query\n",
    "#import gaia_tools.load as gload\n",
    "from astroquery.gaia import Gaia\n",
    "import matplotlib\n",
    "#matplotlib.use(\"AGG\")\n",
    "import matplotlib.pyplot as plt\n",
    "import numpy as np\n",
    "import pandas as pd\n",
    "from astropy.table import Table\n",
    "import pyexcel\n",
    "from astropy import units as u\n",
    "from astropy.coordinates import SkyCoord\n",
    "\n",
    "import sklearn\n",
    "from sklearn import cluster\n",
    "from astropy import units as u\n",
    "from astropy.coordinates import SkyCoord\n",
    "from matplotlib.patches import Circle\n",
    "#from matplotlib import patches\n",
    "\n",
    "%pylab inline\n",
    "\n",
    "#import pywt\n",
    "from galpy.util import bovy_plot"
   ]
  },
  {
   "cell_type": "code",
   "execution_count": 2,
   "metadata": {
    "collapsed": true
   },
   "outputs": [],
   "source": [
    "\n",
    "# csv-pd set up for DBSCANN\n",
    "GlobClust_Log_ra_dec = pd.read_csv('GlobClust_ra-dec.csv')\n",
    "GlobClust_Log_r_t = GlobClust_Log_ra_dec.loc[0:0,\"r_t\"]\n",
    "GlobClust_Log_radec = GlobClust_Log_ra_dec.loc[0:0,\"RA\":\"DEC\"]\n",
    "GlobClust_Log_ID = GlobClust_Log_ra_dec.loc[0:0,\"ID\"]\n",
    "GlobClust_Log_r_c = GlobClust_Log_ra_dec.loc[0:0,\"r_c\"]\n",
    "GlobClust_Log_r_t = GlobClust_Log_ra_dec.loc[0:0,\"r_t\"]\n",
    "\n",
    "coord_ra_dec_deg=[]\n",
    "coord_ra_dec = SkyCoord(GlobClust_Log_radec.loc[:,\"RA\"], GlobClust_Log_radec.loc[:,\"DEC\"], frame='icrs')\n",
    "\n",
    "GlobClust_Log_dec = coord_ra_dec.dec.deg\n",
    "GlobClust_Log_ra = coord_ra_dec.ra.deg"
   ]
  },
  {
   "cell_type": "code",
   "execution_count": 12,
   "metadata": {},
   "outputs": [
    {
     "name": "stdout",
     "output_type": "stream",
     "text": [
      "Launched query: 'SELECT top 100 gaia.ra, gaia.dec, gaia.l, gaia.b, gaia.pmra, gaia.pmdec, gaia.phot_g_mean_mag, gaia.phot_rp_mean_mag, gaia.phot_bp_mean_mag, gaia.parallax,gaia.parallax_error,gaia.a_g_val ,panstarrs1.g_mean_psf_mag, panstarrs1.g_mean_psf_mag_error,panstarrs1.r_mean_psf_mag,panstarrs1.r_mean_psf_mag_error, panstarrs1.i_mean_psf_mag,panstarrs1.i_mean_psf_mag_error FROM gaiadr2.gaia_source AS gaia INNER JOIN gaiadr2.panstarrs1_best_neighbour AS panstarrs1_match ON panstarrs1_match.source_id = gaia.source_id INNER JOIN gaiadr2.panstarrs1_original_valid AS panstarrs1 ON panstarrs1.obj_id = panstarrs1_match.original_ext_source_id WHERE 1=CONTAINS(POINT('ICRS',gaia.ra,gaia.dec),CIRCLE('ICRS',13.188500,-26.582611,3.298176))'\n",
      "Retrieving async. results...\n",
      "/usr/local/lib/python3.6/site-packages/astropy/io/votable/tree.py:1640: W27: None:3:0: W27: COOSYS deprecated in VOTable 1.2\n",
      "  warn_or_raise(W27, W27, (), config, pos)\n",
      "\n",
      "/usr/local/lib/python3.6/site-packages/astropy/io/votable/tree.py:711: W35: None:5:0: W35: 'value' attribute required for INFO elements\n",
      "  warn_or_raise(W35, W35, ('value'), self._config, self._pos)\n",
      "\n",
      "/usr/local/lib/python3.6/site-packages/astropy/io/votable/tree.py:711: W35: None:6:0: W35: 'value' attribute required for INFO elements\n",
      "  warn_or_raise(W35, W35, ('value'), self._config, self._pos)\n",
      "\n",
      "/usr/local/lib/python3.6/site-packages/astropy/io/votable/tree.py:711: W35: None:7:0: W35: 'value' attribute required for INFO elements\n",
      "  warn_or_raise(W35, W35, ('value'), self._config, self._pos)\n",
      "\n",
      "/usr/local/lib/python3.6/site-packages/astropy/io/votable/tree.py:711: W35: None:8:0: W35: 'value' attribute required for INFO elements\n",
      "  warn_or_raise(W35, W35, ('value'), self._config, self._pos)\n",
      "\n",
      "/usr/local/lib/python3.6/site-packages/astropy/io/votable/tree.py:711: W35: None:10:0: W35: 'value' attribute required for INFO elements\n",
      "  warn_or_raise(W35, W35, ('value'), self._config, self._pos)\n",
      "\n",
      "/usr/local/lib/python3.6/site-packages/astropy/io/votable/tree.py:1391: W50: None:24:0: W50: Invalid unit string 'mas.yr**-1'\n",
      "  self._config, self._pos)\n",
      "\n",
      "/usr/local/lib/python3.6/site-packages/astropy/io/votable/tree.py:1391: W50: None:27:0: W50: Invalid unit string 'mas.yr**-1'\n",
      "  self._config, self._pos)\n",
      "\n",
      "Query finished.\n"
     ]
    }
   ],
   "source": [
    "#CONE SEARCH\n",
    "job = Gaia.launch_job_async(\"SELECT top 100 gaia.ra, gaia.dec, gaia.l, gaia.b, gaia.pmra, \\\n",
    "gaia.pmdec, gaia.phot_g_mean_mag, gaia.phot_rp_mean_mag, gaia.phot_bp_mean_mag, \\\n",
    "gaia.parallax,gaia.parallax_error,gaia.a_g_val ,panstarrs1.g_mean_psf_mag, \\\n",
    "panstarrs1.g_mean_psf_mag_error,panstarrs1.r_mean_psf_mag,panstarrs1.r_mean_psf_mag_error, \\\n",
    "panstarrs1.i_mean_psf_mag,panstarrs1.i_mean_psf_mag_error FROM gaiadr2.gaia_source \\\n",
    "AS gaia INNER JOIN gaiadr2.panstarrs1_best_neighbour AS panstarrs1_match ON \\\n",
    "panstarrs1_match.source_id = gaia.source_id INNER JOIN gaiadr2.panstarrs1_original_valid \\\n",
    "AS panstarrs1 ON panstarrs1.obj_id = panstarrs1_match.original_ext_source_id \\\n",
    "WHERE 1=CONTAINS(POINT('ICRS',gaia.ra,gaia.dec),CIRCLE('ICRS',%f,%f,%f))\" % \\\n",
    "(GlobClust_Log_ra,GlobClust_Log_dec,GlobClust_Log_r_t/60*15),dump_to_file=False)\n",
    "data = job.get_results()"
   ]
  },
  {
   "cell_type": "code",
   "execution_count": 13,
   "metadata": {},
   "outputs": [
    {
     "name": "stdout",
     "output_type": "stream",
     "text": [
      "16.207946523380006\n"
     ]
    }
   ],
   "source": [
    "print(data[0]['ra'])"
   ]
  },
  {
   "cell_type": "code",
   "execution_count": 15,
   "metadata": {},
   "outputs": [
    {
     "name": "stdout",
     "output_type": "stream",
     "text": [
      "Launched query: 'SELECT top 100 gaia.ra, gaia.dec, gaia.l, gaia.b, gaia.pmra, gaia.pmdec, gaia.phot_g_mean_mag, gaia.phot_rp_mean_mag, gaia.phot_bp_mean_mag, gaia.parallax,gaia.parallax_error,gaia.a_g_val ,panstarrs1.g_mean_psf_mag, panstarrs1.g_mean_psf_mag_error,panstarrs1.r_mean_psf_mag,panstarrs1.r_mean_psf_mag_error, panstarrs1.i_mean_psf_mag,panstarrs1.i_mean_psf_mag_error FROM gaiadr2.gaia_source AS gaia INNER JOIN gaiadr2.panstarrs1_best_neighbour AS panstarrs1_match ON panstarrs1_match.source_id = gaia.source_id INNER JOIN gaiadr2.panstarrs1_original_valid AS panstarrs1 ON panstarrs1.obj_id = panstarrs1_match.original_ext_source_id WHERE gaia.ra BETWEEN 9.890324 AND 16.486676 AND gaia.dec BETWEEN -29.880787 AND -23.284435'\n",
      "Retrieving async. results...\n",
      "/usr/local/lib/python3.6/site-packages/astropy/io/votable/tree.py:1640: W27: None:3:0: W27: COOSYS deprecated in VOTable 1.2\n",
      "  warn_or_raise(W27, W27, (), config, pos)\n",
      "\n",
      "/usr/local/lib/python3.6/site-packages/astropy/io/votable/tree.py:711: W35: None:5:0: W35: 'value' attribute required for INFO elements\n",
      "  warn_or_raise(W35, W35, ('value'), self._config, self._pos)\n",
      "\n",
      "/usr/local/lib/python3.6/site-packages/astropy/io/votable/tree.py:711: W35: None:6:0: W35: 'value' attribute required for INFO elements\n",
      "  warn_or_raise(W35, W35, ('value'), self._config, self._pos)\n",
      "\n",
      "/usr/local/lib/python3.6/site-packages/astropy/io/votable/tree.py:711: W35: None:7:0: W35: 'value' attribute required for INFO elements\n",
      "  warn_or_raise(W35, W35, ('value'), self._config, self._pos)\n",
      "\n",
      "/usr/local/lib/python3.6/site-packages/astropy/io/votable/tree.py:711: W35: None:8:0: W35: 'value' attribute required for INFO elements\n",
      "  warn_or_raise(W35, W35, ('value'), self._config, self._pos)\n",
      "\n",
      "/usr/local/lib/python3.6/site-packages/astropy/io/votable/tree.py:711: W35: None:10:0: W35: 'value' attribute required for INFO elements\n",
      "  warn_or_raise(W35, W35, ('value'), self._config, self._pos)\n",
      "\n",
      "/usr/local/lib/python3.6/site-packages/astropy/io/votable/tree.py:1391: W50: None:24:0: W50: Invalid unit string 'mas.yr**-1'\n",
      "  self._config, self._pos)\n",
      "\n",
      "/usr/local/lib/python3.6/site-packages/astropy/io/votable/tree.py:1391: W50: None:27:0: W50: Invalid unit string 'mas.yr**-1'\n",
      "  self._config, self._pos)\n",
      "\n",
      "Query finished.\n"
     ]
    }
   ],
   "source": [
    "#BOX SEARCH (with parameters as string)\n",
    "\n",
    "params=('gaia.ra, gaia.dec, gaia.l, gaia.b, \\\n",
    "gaia.pmra, gaia.pmdec, gaia.phot_g_mean_mag, gaia.phot_rp_mean_mag, gaia.phot_bp_mean_mag, \\\n",
    "gaia.parallax,gaia.parallax_error,gaia.a_g_val ,panstarrs1.g_mean_psf_mag, \\\n",
    "panstarrs1.g_mean_psf_mag_error,panstarrs1.r_mean_psf_mag,panstarrs1.r_mean_psf_mag_error, \\\n",
    "panstarrs1.i_mean_psf_mag,panstarrs1.i_mean_psf_mag_error')\n",
    "\n",
    "job = Gaia.launch_job_async(\"SELECT top 100 %s FROM gaiadr2.gaia_source AS gaia \\\n",
    "INNER JOIN gaiadr2.panstarrs1_best_neighbour AS panstarrs1_match ON \\\n",
    "panstarrs1_match.source_id = gaia.source_id INNER JOIN gaiadr2.panstarrs1_original_valid \\\n",
    "AS panstarrs1 ON panstarrs1.obj_id = panstarrs1_match.original_ext_source_id WHERE gaia.ra \\\n",
    "BETWEEN %f AND %f AND gaia.dec BETWEEN %f AND %f\" % \\\n",
    "(params,GlobClust_Log_ra-GlobClust_Log_r_t/60*15,GlobClust_Log_ra+GlobClust_Log_r_t/60*15, \\\n",
    " GlobClust_Log_dec-GlobClust_Log_r_t/60*15,GlobClust_Log_dec+GlobClust_Log_r_t/60*15),dump_to_file=False)\n",
    "data = job.get_results()"
   ]
  },
  {
   "cell_type": "code",
   "execution_count": 11,
   "metadata": {},
   "outputs": [
    {
     "name": "stdout",
     "output_type": "stream",
     "text": [
      "9.890583995614403\n"
     ]
    }
   ],
   "source": [
    "print(data[0]['ra'])"
   ]
  },
  {
   "cell_type": "code",
   "execution_count": null,
   "metadata": {
    "collapsed": true
   },
   "outputs": [],
   "source": []
  },
  {
   "cell_type": "code",
   "execution_count": null,
   "metadata": {
    "collapsed": true
   },
   "outputs": [],
   "source": []
  }
 ],
 "metadata": {
  "kernelspec": {
   "display_name": "Python 3",
   "language": "python",
   "name": "python3"
  },
  "language_info": {
   "codemirror_mode": {
    "name": "ipython",
    "version": 3
   },
   "file_extension": ".py",
   "mimetype": "text/x-python",
   "name": "python",
   "nbconvert_exporter": "python",
   "pygments_lexer": "ipython3",
   "version": "3.6.2"
  }
 },
 "nbformat": 4,
 "nbformat_minor": 2
}
